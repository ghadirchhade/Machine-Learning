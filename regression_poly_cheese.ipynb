{
 "cells": [
  {
   "cell_type": "code",
   "execution_count": 11,
   "id": "65269d3a-81b9-4935-8b3d-53ff0aa8aefe",
   "metadata": {},
   "outputs": [],
   "source": [
    "import pandas as pd\n",
    "from sklearn.preprocessing import StandardScaler\n",
    "from sklearn.model_selection import train_test_split\n",
    "from sklearn.preprocessing import PolynomialFeatures\n",
    "from sklearn.linear_model import Lasso,LinearRegression\n",
    "from sklearn.metrics import mean_squared_error,r2_score"
   ]
  },
  {
   "cell_type": "code",
   "execution_count": 12,
   "id": "b434c821-d0fb-4d20-839d-a4dfbc0f1f55",
   "metadata": {},
   "outputs": [
    {
     "data": {
      "text/html": [
       "<div>\n",
       "<style scoped>\n",
       "    .dataframe tbody tr th:only-of-type {\n",
       "        vertical-align: middle;\n",
       "    }\n",
       "\n",
       "    .dataframe tbody tr th {\n",
       "        vertical-align: top;\n",
       "    }\n",
       "\n",
       "    .dataframe thead th {\n",
       "        text-align: right;\n",
       "    }\n",
       "</style>\n",
       "<table border=\"1\" class=\"dataframe\">\n",
       "  <thead>\n",
       "    <tr style=\"text-align: right;\">\n",
       "      <th></th>\n",
       "      <th>calories</th>\n",
       "      <th>sodium</th>\n",
       "      <th>calcium</th>\n",
       "      <th>lipides</th>\n",
       "      <th>retinol</th>\n",
       "      <th>folates</th>\n",
       "      <th>proteines</th>\n",
       "      <th>cholesterol</th>\n",
       "      <th>magnesium</th>\n",
       "    </tr>\n",
       "    <tr>\n",
       "      <th>Fromages</th>\n",
       "      <th></th>\n",
       "      <th></th>\n",
       "      <th></th>\n",
       "      <th></th>\n",
       "      <th></th>\n",
       "      <th></th>\n",
       "      <th></th>\n",
       "      <th></th>\n",
       "      <th></th>\n",
       "    </tr>\n",
       "  </thead>\n",
       "  <tbody>\n",
       "    <tr>\n",
       "      <th>CarredelEst</th>\n",
       "      <td>314</td>\n",
       "      <td>353.5</td>\n",
       "      <td>72.6</td>\n",
       "      <td>26.3</td>\n",
       "      <td>51.6</td>\n",
       "      <td>30.3</td>\n",
       "      <td>21.0</td>\n",
       "      <td>70</td>\n",
       "      <td>20</td>\n",
       "    </tr>\n",
       "    <tr>\n",
       "      <th>Babybel</th>\n",
       "      <td>314</td>\n",
       "      <td>238.0</td>\n",
       "      <td>209.8</td>\n",
       "      <td>25.1</td>\n",
       "      <td>63.7</td>\n",
       "      <td>6.4</td>\n",
       "      <td>22.6</td>\n",
       "      <td>70</td>\n",
       "      <td>27</td>\n",
       "    </tr>\n",
       "    <tr>\n",
       "      <th>Beaufort</th>\n",
       "      <td>401</td>\n",
       "      <td>112.0</td>\n",
       "      <td>259.4</td>\n",
       "      <td>33.3</td>\n",
       "      <td>54.9</td>\n",
       "      <td>1.2</td>\n",
       "      <td>26.6</td>\n",
       "      <td>120</td>\n",
       "      <td>41</td>\n",
       "    </tr>\n",
       "    <tr>\n",
       "      <th>Bleu</th>\n",
       "      <td>342</td>\n",
       "      <td>336.0</td>\n",
       "      <td>211.1</td>\n",
       "      <td>28.9</td>\n",
       "      <td>37.1</td>\n",
       "      <td>27.5</td>\n",
       "      <td>20.2</td>\n",
       "      <td>90</td>\n",
       "      <td>27</td>\n",
       "    </tr>\n",
       "    <tr>\n",
       "      <th>Camembert</th>\n",
       "      <td>264</td>\n",
       "      <td>314.0</td>\n",
       "      <td>215.9</td>\n",
       "      <td>19.5</td>\n",
       "      <td>103.0</td>\n",
       "      <td>36.4</td>\n",
       "      <td>23.4</td>\n",
       "      <td>60</td>\n",
       "      <td>20</td>\n",
       "    </tr>\n",
       "  </tbody>\n",
       "</table>\n",
       "</div>"
      ],
      "text/plain": [
       "             calories  sodium  calcium  lipides  retinol  folates  proteines  \\\n",
       "Fromages                                                                       \n",
       "CarredelEst       314   353.5     72.6     26.3     51.6     30.3       21.0   \n",
       "Babybel           314   238.0    209.8     25.1     63.7      6.4       22.6   \n",
       "Beaufort          401   112.0    259.4     33.3     54.9      1.2       26.6   \n",
       "Bleu              342   336.0    211.1     28.9     37.1     27.5       20.2   \n",
       "Camembert         264   314.0    215.9     19.5    103.0     36.4       23.4   \n",
       "\n",
       "             cholesterol  magnesium  \n",
       "Fromages                             \n",
       "CarredelEst           70         20  \n",
       "Babybel               70         27  \n",
       "Beaufort             120         41  \n",
       "Bleu                  90         27  \n",
       "Camembert             60         20  "
      ]
     },
     "execution_count": 12,
     "metadata": {},
     "output_type": "execute_result"
    }
   ],
   "source": [
    "fromage=pd.read_table(\"C:\\\\Users\\\\ghadir\\\\OneDrive - Lebanese University\\\\semester 6\\\\I3344 numerical simulation and modelling\\\\datasets\\\\fromage.txt\",index_col=0)\n",
    "fromage.head()"
   ]
  },
  {
   "cell_type": "code",
   "execution_count": 23,
   "id": "1b5c1e78-d9ae-41be-92c4-a17ea4c0f5f2",
   "metadata": {},
   "outputs": [
    {
     "data": {
      "image/png": "[encoded data removed]",
      "text/plain": [
       "<Figure size 800x800 with 2 Axes>"
      ]
     },
     "metadata": {},
     "output_type": "display_data"
    }
   ],
   "source": [
    "import seaborn as sns\n",
    "import matplotlib.pyplot as plt\n",
    "fig,ax=plt.subplots(figsize=(8,8))\n",
    "h1=sns.heatmap(fromage.corr(), annot=True , ax=ax , vmin=-1 , vmax=1)"
   ]
  },
  {
   "cell_type": "code",
   "execution_count": 14,
   "id": "67d38411-5a78-466d-8aec-0ecd1e6f56bf",
   "metadata": {},
   "outputs": [
    {
     "data": {
      "text/plain": [
       "(29, 9)"
      ]
     },
     "execution_count": 14,
     "metadata": {},
     "output_type": "execute_result"
    }
   ],
   "source": [
    "fromage.shape"
   ]
  },
  {
   "cell_type": "code",
   "execution_count": 24,
   "id": "4a4233dc-3c61-4182-9081-732220710c8f",
   "metadata": {},
   "outputs": [
    {
     "data": {
      "text/html": [
       "<div>\n",
       "<style scoped>\n",
       "    .dataframe tbody tr th:only-of-type {\n",
       "        vertical-align: middle;\n",
       "    }\n",
       "\n",
       "    .dataframe tbody tr th {\n",
       "        vertical-align: top;\n",
       "    }\n",
       "\n",
       "    .dataframe thead th {\n",
       "        text-align: right;\n",
       "    }\n",
       "</style>\n",
       "<table border=\"1\" class=\"dataframe\">\n",
       "  <thead>\n",
       "    <tr style=\"text-align: right;\">\n",
       "      <th></th>\n",
       "      <th>sodium</th>\n",
       "      <th>calcium</th>\n",
       "      <th>lipides</th>\n",
       "      <th>retinol</th>\n",
       "      <th>folates</th>\n",
       "      <th>proteines</th>\n",
       "      <th>cholesterol</th>\n",
       "      <th>magnesium</th>\n",
       "    </tr>\n",
       "    <tr>\n",
       "      <th>Fromages</th>\n",
       "      <th></th>\n",
       "      <th></th>\n",
       "      <th></th>\n",
       "      <th></th>\n",
       "      <th></th>\n",
       "      <th></th>\n",
       "      <th></th>\n",
       "      <th></th>\n",
       "    </tr>\n",
       "  </thead>\n",
       "  <tbody>\n",
       "    <tr>\n",
       "      <th>CarredelEst</th>\n",
       "      <td>353.5</td>\n",
       "      <td>72.6</td>\n",
       "      <td>26.3</td>\n",
       "      <td>51.6</td>\n",
       "      <td>30.3</td>\n",
       "      <td>21.0</td>\n",
       "      <td>70</td>\n",
       "      <td>20</td>\n",
       "    </tr>\n",
       "    <tr>\n",
       "      <th>Babybel</th>\n",
       "      <td>238.0</td>\n",
       "      <td>209.8</td>\n",
       "      <td>25.1</td>\n",
       "      <td>63.7</td>\n",
       "      <td>6.4</td>\n",
       "      <td>22.6</td>\n",
       "      <td>70</td>\n",
       "      <td>27</td>\n",
       "    </tr>\n",
       "    <tr>\n",
       "      <th>Beaufort</th>\n",
       "      <td>112.0</td>\n",
       "      <td>259.4</td>\n",
       "      <td>33.3</td>\n",
       "      <td>54.9</td>\n",
       "      <td>1.2</td>\n",
       "      <td>26.6</td>\n",
       "      <td>120</td>\n",
       "      <td>41</td>\n",
       "    </tr>\n",
       "    <tr>\n",
       "      <th>Bleu</th>\n",
       "      <td>336.0</td>\n",
       "      <td>211.1</td>\n",
       "      <td>28.9</td>\n",
       "      <td>37.1</td>\n",
       "      <td>27.5</td>\n",
       "      <td>20.2</td>\n",
       "      <td>90</td>\n",
       "      <td>27</td>\n",
       "    </tr>\n",
       "    <tr>\n",
       "      <th>Camembert</th>\n",
       "      <td>314.0</td>\n",
       "      <td>215.9</td>\n",
       "      <td>19.5</td>\n",
       "      <td>103.0</td>\n",
       "      <td>36.4</td>\n",
       "      <td>23.4</td>\n",
       "      <td>60</td>\n",
       "      <td>20</td>\n",
       "    </tr>\n",
       "  </tbody>\n",
       "</table>\n",
       "</div>"
      ],
      "text/plain": [
       "             sodium  calcium  lipides  retinol  folates  proteines  \\\n",
       "Fromages                                                             \n",
       "CarredelEst   353.5     72.6     26.3     51.6     30.3       21.0   \n",
       "Babybel       238.0    209.8     25.1     63.7      6.4       22.6   \n",
       "Beaufort      112.0    259.4     33.3     54.9      1.2       26.6   \n",
       "Bleu          336.0    211.1     28.9     37.1     27.5       20.2   \n",
       "Camembert     314.0    215.9     19.5    103.0     36.4       23.4   \n",
       "\n",
       "             cholesterol  magnesium  \n",
       "Fromages                             \n",
       "CarredelEst           70         20  \n",
       "Babybel               70         27  \n",
       "Beaufort             120         41  \n",
       "Bleu                  90         27  \n",
       "Camembert             60         20  "
      ]
     },
     "execution_count": 24,
     "metadata": {},
     "output_type": "execute_result"
    }
   ],
   "source": [
    "X=fromage.drop([\"calories\"],axis=1)\n",
    "X.head()"
   ]
  },
  {
   "cell_type": "code",
   "execution_count": 27,
   "id": "94b2143a-ca7e-42a3-8309-904183f6bd4f",
   "metadata": {},
   "outputs": [
    {
     "data": {
      "text/plain": [
       "Fromages\n",
       "CarredelEst    314\n",
       "Babybel        314\n",
       "Beaufort       401\n",
       "Bleu           342\n",
       "Camembert      264\n",
       "Name: calories, dtype: int64"
      ]
     },
     "execution_count": 27,
     "metadata": {},
     "output_type": "execute_result"
    }
   ],
   "source": [
    "y=fromage.calories\n",
    "y.head()"
   ]
  },
  {
   "cell_type": "code",
   "execution_count": 28,
   "id": "5e0824bb-6eae-45b2-ac4f-a5399bbff605",
   "metadata": {},
   "outputs": [],
   "source": [
    "X_train,X_test,y_train,y_test=train_test_split(X,y,test_size=0.30,random_state=42)"
   ]
  },
  {
   "cell_type": "code",
   "execution_count": 30,
   "id": "963c0de7-feb7-4d85-8a84-a2233627b29a",
   "metadata": {},
   "outputs": [
    {
     "data": {
      "text/plain": [
       "((20, 8), (9, 8))"
      ]
     },
     "execution_count": 30,
     "metadata": {},
     "output_type": "execute_result"
    }
   ],
   "source": [
    "X_train.shape , X_test.shape"
   ]
  },
  {
   "cell_type": "code",
   "execution_count": 35,
   "id": "ce57a7e2-8049-4ba2-8006-08d61ca8bfc1",
   "metadata": {},
   "outputs": [],
   "source": [
    "scaler=StandardScaler()\n",
    "#normalization centre reduite for the training dataset-->calcul the mean and std of each column in the training and apply the transformatiom(data-mean/std) to the values of the training dataset\n",
    "#mnhotton again bi df laeno l fit_transfrom return a numpy array-->shaklon mesh helo fa mnhotton in df\n",
    "X_train_CR=pd.DataFrame(scaler.fit_transform(X_train),columns=X_train.columns)"
   ]
  },
  {
   "cell_type": "code",
   "execution_count": 36,
   "id": "bf19f748-d1e0-4585-b8e9-d7f489577668",
   "metadata": {},
   "outputs": [
    {
     "data": {
      "text/html": [
       "<div>\n",
       "<style scoped>\n",
       "    .dataframe tbody tr th:only-of-type {\n",
       "        vertical-align: middle;\n",
       "    }\n",
       "\n",
       "    .dataframe tbody tr th {\n",
       "        vertical-align: top;\n",
       "    }\n",
       "\n",
       "    .dataframe thead th {\n",
       "        text-align: right;\n",
       "    }\n",
       "</style>\n",
       "<table border=\"1\" class=\"dataframe\">\n",
       "  <thead>\n",
       "    <tr style=\"text-align: right;\">\n",
       "      <th></th>\n",
       "      <th>sodium</th>\n",
       "      <th>calcium</th>\n",
       "      <th>lipides</th>\n",
       "      <th>retinol</th>\n",
       "      <th>folates</th>\n",
       "      <th>proteines</th>\n",
       "      <th>cholesterol</th>\n",
       "      <th>magnesium</th>\n",
       "    </tr>\n",
       "  </thead>\n",
       "  <tbody>\n",
       "    <tr>\n",
       "      <th>0</th>\n",
       "      <td>-0.633340</td>\n",
       "      <td>-1.646861</td>\n",
       "      <td>-0.574613</td>\n",
       "      <td>2.915299</td>\n",
       "      <td>1.366103</td>\n",
       "      <td>-1.210300</td>\n",
       "      <td>-0.734586</td>\n",
       "      <td>-0.993131</td>\n",
       "    </tr>\n",
       "    <tr>\n",
       "      <th>1</th>\n",
       "      <td>-1.755716</td>\n",
       "      <td>-0.626595</td>\n",
       "      <td>-2.404590</td>\n",
       "      <td>-0.814176</td>\n",
       "      <td>0.441072</td>\n",
       "      <td>-1.615179</td>\n",
       "      <td>-2.192822</td>\n",
       "      <td>-1.463809</td>\n",
       "    </tr>\n",
       "    <tr>\n",
       "      <th>2</th>\n",
       "      <td>-0.746521</td>\n",
       "      <td>1.121042</td>\n",
       "      <td>0.181778</td>\n",
       "      <td>-0.231561</td>\n",
       "      <td>-0.778288</td>\n",
       "      <td>0.756257</td>\n",
       "      <td>0.359090</td>\n",
       "      <td>1.642667</td>\n",
       "    </tr>\n",
       "    <tr>\n",
       "      <th>3</th>\n",
       "      <td>0.790850</td>\n",
       "      <td>0.628261</td>\n",
       "      <td>0.718571</td>\n",
       "      <td>-0.936636</td>\n",
       "      <td>-0.938066</td>\n",
       "      <td>0.134478</td>\n",
       "      <td>0.723649</td>\n",
       "      <td>1.266124</td>\n",
       "    </tr>\n",
       "    <tr>\n",
       "      <th>4</th>\n",
       "      <td>0.102334</td>\n",
       "      <td>0.254858</td>\n",
       "      <td>0.230577</td>\n",
       "      <td>-0.305780</td>\n",
       "      <td>-0.702603</td>\n",
       "      <td>0.452597</td>\n",
       "      <td>-0.005468</td>\n",
       "      <td>0.042361</td>\n",
       "    </tr>\n",
       "  </tbody>\n",
       "</table>\n",
       "</div>"
      ],
      "text/plain": [
       "     sodium   calcium   lipides   retinol   folates  proteines  cholesterol  \\\n",
       "0 -0.633340 -1.646861 -0.574613  2.915299  1.366103  -1.210300    -0.734586   \n",
       "1 -1.755716 -0.626595 -2.404590 -0.814176  0.441072  -1.615179    -2.192822   \n",
       "2 -0.746521  1.121042  0.181778 -0.231561 -0.778288   0.756257     0.359090   \n",
       "3  0.790850  0.628261  0.718571 -0.936636 -0.938066   0.134478     0.723649   \n",
       "4  0.102334  0.254858  0.230577 -0.305780 -0.702603   0.452597    -0.005468   \n",
       "\n",
       "   magnesium  \n",
       "0  -0.993131  \n",
       "1  -1.463809  \n",
       "2   1.642667  \n",
       "3   1.266124  \n",
       "4   0.042361  "
      ]
     },
     "execution_count": 36,
     "metadata": {},
     "output_type": "execute_result"
    }
   ],
   "source": [
    "X_train_CR.head()"
   ]
  },
  {
   "cell_type": "code",
   "execution_count": 37,
   "id": "6f50d903-2357-426a-ba12-f1283b82e8db",
   "metadata": {},
   "outputs": [],
   "source": [
    "#normalization centre reduite for the testing dataset-->only apply the trasnformation on the testing dataset without computing the means and the std's it takes the means and std's calculated for the training dataset\n",
    "X_test_CR=pd.DataFrame(scaler.transform(X_test),columns=X_test.columns)"
   ]
  },
  {
   "cell_type": "code",
   "execution_count": 39,
   "id": "003de998-0e2c-42b5-818f-5a2e2e8c23e1",
   "metadata": {},
   "outputs": [
    {
     "data": {
      "text/html": [
       "<div>\n",
       "<style scoped>\n",
       "    .dataframe tbody tr th:only-of-type {\n",
       "        vertical-align: middle;\n",
       "    }\n",
       "\n",
       "    .dataframe tbody tr th {\n",
       "        vertical-align: top;\n",
       "    }\n",
       "\n",
       "    .dataframe thead th {\n",
       "        text-align: right;\n",
       "    }\n",
       "</style>\n",
       "<table border=\"1\" class=\"dataframe\">\n",
       "  <thead>\n",
       "    <tr style=\"text-align: right;\">\n",
       "      <th></th>\n",
       "      <th>sodium</th>\n",
       "      <th>calcium</th>\n",
       "      <th>lipides</th>\n",
       "      <th>retinol</th>\n",
       "      <th>folates</th>\n",
       "      <th>proteines</th>\n",
       "      <th>cholesterol</th>\n",
       "      <th>magnesium</th>\n",
       "    </tr>\n",
       "  </thead>\n",
       "  <tbody>\n",
       "    <tr>\n",
       "      <th>0</th>\n",
       "      <td>-0.821975</td>\n",
       "      <td>0.368684</td>\n",
       "      <td>0.742971</td>\n",
       "      <td>-0.843863</td>\n",
       "      <td>-0.929657</td>\n",
       "      <td>-0.270402</td>\n",
       "      <td>0.359090</td>\n",
       "      <td>0.324768</td>\n",
       "    </tr>\n",
       "    <tr>\n",
       "      <th>1</th>\n",
       "      <td>-1.906624</td>\n",
       "      <td>-1.341475</td>\n",
       "      <td>-1.879997</td>\n",
       "      <td>-0.283514</td>\n",
       "      <td>0.659716</td>\n",
       "      <td>-1.803159</td>\n",
       "      <td>-1.463704</td>\n",
       "      <td>-1.557945</td>\n",
       "    </tr>\n",
       "    <tr>\n",
       "      <th>2</th>\n",
       "      <td>-1.576513</td>\n",
       "      <td>1.620764</td>\n",
       "      <td>0.755171</td>\n",
       "      <td>-0.580388</td>\n",
       "      <td>-1.038979</td>\n",
       "      <td>1.435875</td>\n",
       "      <td>1.452767</td>\n",
       "      <td>1.736802</td>\n",
       "    </tr>\n",
       "    <tr>\n",
       "      <th>3</th>\n",
       "      <td>0.045744</td>\n",
       "      <td>-0.174070</td>\n",
       "      <td>0.584373</td>\n",
       "      <td>-0.758512</td>\n",
       "      <td>-0.668966</td>\n",
       "      <td>0.423677</td>\n",
       "      <td>0.723649</td>\n",
       "      <td>-0.145910</td>\n",
       "    </tr>\n",
       "    <tr>\n",
       "      <th>4</th>\n",
       "      <td>-0.520160</td>\n",
       "      <td>-0.126874</td>\n",
       "      <td>1.133366</td>\n",
       "      <td>0.165507</td>\n",
       "      <td>-0.828744</td>\n",
       "      <td>0.944236</td>\n",
       "      <td>1.452767</td>\n",
       "      <td>0.136497</td>\n",
       "    </tr>\n",
       "  </tbody>\n",
       "</table>\n",
       "</div>"
      ],
      "text/plain": [
       "     sodium   calcium   lipides   retinol   folates  proteines  cholesterol  \\\n",
       "0 -0.821975  0.368684  0.742971 -0.843863 -0.929657  -0.270402     0.359090   \n",
       "1 -1.906624 -1.341475 -1.879997 -0.283514  0.659716  -1.803159    -1.463704   \n",
       "2 -1.576513  1.620764  0.755171 -0.580388 -1.038979   1.435875     1.452767   \n",
       "3  0.045744 -0.174070  0.584373 -0.758512 -0.668966   0.423677     0.723649   \n",
       "4 -0.520160 -0.126874  1.133366  0.165507 -0.828744   0.944236     1.452767   \n",
       "\n",
       "   magnesium  \n",
       "0   0.324768  \n",
       "1  -1.557945  \n",
       "2   1.736802  \n",
       "3  -0.145910  \n",
       "4   0.136497  "
      ]
     },
     "execution_count": 39,
     "metadata": {},
     "output_type": "execute_result"
    }
   ],
   "source": [
    "X_test_CR.head()"
   ]
  },
  {
   "cell_type": "code",
   "execution_count": 41,
   "id": "6c08c79a-b478-49cf-b557-fe2bf7a00957",
   "metadata": {},
   "outputs": [
    {
     "data": {
      "text/plain": [
       "array([328.32822851, 115.56392955, 381.71161079, 343.32390581,\n",
       "       391.06480538, 416.70146788, 298.70663555, 325.91085251,\n",
       "       332.42681253])"
      ]
     },
     "execution_count": 41,
     "metadata": {},
     "output_type": "execute_result"
    }
   ],
   "source": [
    "#normal linear regression --> calories=equation in function of the explicatives variables\n",
    "linear_model=LinearRegression()\n",
    "linear_model.fit(X_train_CR,y_train)\n",
    "predictions=linear_model.predict(X_test_CR)\n",
    "predictions"
   ]
  },
  {
   "cell_type": "markdown",
   "id": "cf9b652c-2f74-4dfd-a7c4-7855b19295eb",
   "metadata": {},
   "source": [
    "#### --->note:nehna ma mnjib l RMSE(performance)ella aal test bas hon nehna aam njiba aal train kmn bas kermel nshouf eza fi overffiting aw laa mesh aktar yaani bas la hek mnjiba "
   ]
  },
  {
   "cell_type": "code",
   "execution_count": 42,
   "id": "b8fb48b7-ffcd-4a56-b690-bd5f71ac6355",
   "metadata": {},
   "outputs": [
    {
     "name": "stdout",
     "output_type": "stream",
     "text": [
      "RMSE train set: 6.813676483453557\n",
      "RMSE test set: 10.617822685887049\n"
     ]
    }
   ],
   "source": [
    "print(\"RMSE train set:\",mean_squared_error(y_train,linear_model.predict(X_train_CR),squared=False))\n",
    "print(\"RMSE test set:\",mean_squared_error(y_test,predictions,squared=False)"
   ]
  },
  {
   "cell_type": "markdown",
   "id": "caa425e7-393b-4f87-97f9-e91e6b2d4c68",
   "metadata": {},
   "source": [
    "### overfitting because RMSE in train is toooo small than from the train "
   ]
  },
  {
   "cell_type": "markdown",
   "id": "d93c5d1c-96d6-4695-a6ab-02dc90a5374b",
   "metadata": {},
   "source": [
    "#### -->note:3melet regression linear normal rje3et bde a3mal polynomial bas lahazet enu l variables ktar fa elet lezem a3mal lasso la a3mal elimination lal features li ma mohemin w ma bi asro aal model ===> mn khilel l heatmap ===> variables li ma fi baynon correlation linear (awal shi jarrabet kaza value lal alpha w rje3et na2et l best one lama RMSE l values erab mn baeed aal train w aal test w taba2et lasso aalayha ) w byerja3 3melna l polynomial w sar 3enna 44 variable ta2riban yaani kter ktar fa berja3 baamal regression linear normal between all the variables w byerja3 lasso "
   ]
  },
  {
   "cell_type": "markdown",
   "id": "8d90a663-1110-4bcb-89b8-92e1fd1716b3",
   "metadata": {},
   "source": [
    "## note:if squared=True ---> MSE "
   ]
  },
  {
   "cell_type": "code",
   "execution_count": 43,
   "id": "12cbc430-e1a9-44c0-85d6-4dc727346880",
   "metadata": {
    "scrolled": true
   },
   "outputs": [
    {
     "name": "stderr",
     "output_type": "stream",
     "text": [
      "C:\\Users\\ghadir\\AppData\\Local\\Temp\\ipykernel_6204\\1718149647.py:4: UserWarning: With alpha=0, this algorithm does not converge well. You are advised to use the LinearRegression estimator\n",
      "  lasso_model.fit(X_train_CR,y_train)\n",
      "C:\\Users\\ghadir\\miniconda3\\envs\\I3344\\Lib\\site-packages\\sklearn\\linear_model\\_coordinate_descent.py:631: UserWarning: Coordinate descent with no regularization may lead to unexpected results and is discouraged.\n",
      "  model = cd_fast.enet_coordinate_descent(\n"
     ]
    },
    {
     "name": "stdout",
     "output_type": "stream",
     "text": [
      "alpha= 0\n",
      "RMSE train set: 6.813676483453558\n",
      "RMSE test set: 10.617822685886246\n",
      "alpha= 1\n",
      "RMSE train set: 7.25945182964364\n",
      "RMSE test set: 9.572887414973348\n",
      "alpha= 2\n",
      "RMSE train set: 7.748739950341903\n",
      "RMSE test set: 9.525944642183877\n",
      "alpha= 3\n",
      "RMSE train set: 8.142008335645645\n",
      "RMSE test set: 9.50237776485513\n",
      "alpha= 4\n",
      "RMSE train set: 8.643151795688345\n",
      "RMSE test set: 9.592899842007053\n",
      "alpha= 5\n",
      "RMSE train set: 9.247716424987313\n",
      "RMSE test set: 9.822628430311783\n",
      "alpha= 6\n",
      "RMSE train set: 9.936841113460378\n",
      "RMSE test set: 10.182221905326386\n",
      "alpha= 7\n",
      "RMSE train set: 10.694272591741338\n",
      "RMSE test set: 10.658218628081427\n",
      "alpha= 8\n",
      "RMSE train set: 11.477219150073893\n",
      "RMSE test set: 11.299549094322394\n",
      "alpha= 9\n",
      "RMSE train set: 12.290219607051926\n",
      "RMSE test set: 12.043738629664444\n",
      "alpha= 10\n",
      "RMSE train set: 13.13937535206206\n",
      "RMSE test set: 12.845349801777978\n"
     ]
    },
    {
     "name": "stderr",
     "output_type": "stream",
     "text": [
      "C:\\Users\\ghadir\\miniconda3\\envs\\I3344\\Lib\\site-packages\\sklearn\\linear_model\\_coordinate_descent.py:631: ConvergenceWarning: Objective did not converge. You might want to increase the number of iterations, check the scale of the features or consider increasing regularisation. Duality gap: 4.643e+02, tolerance: 1.689e+01 Linear regression models with null weight for the l1 regularization term are more efficiently fitted using one of the solvers implemented in sklearn.linear_model.Ridge/RidgeCV instead.\n",
      "  model = cd_fast.enet_coordinate_descent(\n"
     ]
    }
   ],
   "source": [
    "alpha_values=[0,1,2,3,4,5,6,7,8,9,10]\n",
    "for alpha in alpha_values:\n",
    "    lasso_model=Lasso(alpha=alpha)\n",
    "    lasso_model.fit(X_train_CR,y_train)\n",
    "    print(\"alpha=\",alpha)\n",
    "    print(\"RMSE train set:\",mean_squared_error(y_train,lasso_model.predict(X_train_CR),squared=False))\n",
    "    print(\"RMSE test set:\",mean_squared_error(y_test,lasso_model.predict(X_test_CR),squared=False)"
   ]
  },
  {
   "cell_type": "markdown",
   "id": "83e27888-923d-49a9-8269-a441d5473eaa",
   "metadata": {},
   "source": [
    "### we choose the alpha=5 (to apply it on lasso) its good on the testing and training at the same time (so close to each other)"
   ]
  },
  {
   "cell_type": "code",
   "execution_count": 44,
   "id": "0d50a1db-230d-4a1a-978c-2f1edd2df823",
   "metadata": {},
   "outputs": [
    {
     "data": {
      "text/html": [
       "<style>#sk-container-id-1 {color: black;background-color: white;}#sk-container-id-1 pre{padding: 0;}#sk-container-id-1 div.sk-toggleable {background-color: white;}#sk-container-id-1 label.sk-toggleable__label {cursor: pointer;display: block;width: 100%;margin-bottom: 0;padding: 0.3em;box-sizing: border-box;text-align: center;}#sk-container-id-1 label.sk-toggleable__label-arrow:before {content: \"▸\";float: left;margin-right: 0.25em;color: #696969;}#sk-container-id-1 label.sk-toggleable__label-arrow:hover:before {color: black;}#sk-container-id-1 div.sk-estimator:hover label.sk-toggleable__label-arrow:before {color: black;}#sk-container-id-1 div.sk-toggleable__content {max-height: 0;max-width: 0;overflow: hidden;text-align: left;background-color: #f0f8ff;}#sk-container-id-1 div.sk-toggleable__content pre {margin: 0.2em;color: black;border-radius: 0.25em;background-color: #f0f8ff;}#sk-container-id-1 input.sk-toggleable__control:checked~div.sk-toggleable__content {max-height: 200px;max-width: 100%;overflow: auto;}#sk-container-id-1 input.sk-toggleable__control:checked~label.sk-toggleable__label-arrow:before {content: \"▾\";}#sk-container-id-1 div.sk-estimator input.sk-toggleable__control:checked~label.sk-toggleable__label {background-color: #d4ebff;}#sk-container-id-1 div.sk-label input.sk-toggleable__control:checked~label.sk-toggleable__label {background-color: #d4ebff;}#sk-container-id-1 input.sk-hidden--visually {border: 0;clip: rect(1px 1px 1px 1px);clip: rect(1px, 1px, 1px, 1px);height: 1px;margin: -1px;overflow: hidden;padding: 0;position: absolute;width: 1px;}#sk-container-id-1 div.sk-estimator {font-family: monospace;background-color: #f0f8ff;border: 1px dotted black;border-radius: 0.25em;box-sizing: border-box;margin-bottom: 0.5em;}#sk-container-id-1 div.sk-estimator:hover {background-color: #d4ebff;}#sk-container-id-1 div.sk-parallel-item::after {content: \"\";width: 100%;border-bottom: 1px solid gray;flex-grow: 1;}#sk-container-id-1 div.sk-label:hover label.sk-toggleable__label {background-color: #d4ebff;}#sk-container-id-1 div.sk-serial::before {content: \"\";position: absolute;border-left: 1px solid gray;box-sizing: border-box;top: 0;bottom: 0;left: 50%;z-index: 0;}#sk-container-id-1 div.sk-serial {display: flex;flex-direction: column;align-items: center;background-color: white;padding-right: 0.2em;padding-left: 0.2em;position: relative;}#sk-container-id-1 div.sk-item {position: relative;z-index: 1;}#sk-container-id-1 div.sk-parallel {display: flex;align-items: stretch;justify-content: center;background-color: white;position: relative;}#sk-container-id-1 div.sk-item::before, #sk-container-id-1 div.sk-parallel-item::before {content: \"\";position: absolute;border-left: 1px solid gray;box-sizing: border-box;top: 0;bottom: 0;left: 50%;z-index: -1;}#sk-container-id-1 div.sk-parallel-item {display: flex;flex-direction: column;z-index: 1;position: relative;background-color: white;}#sk-container-id-1 div.sk-parallel-item:first-child::after {align-self: flex-end;width: 50%;}#sk-container-id-1 div.sk-parallel-item:last-child::after {align-self: flex-start;width: 50%;}#sk-container-id-1 div.sk-parallel-item:only-child::after {width: 0;}#sk-container-id-1 div.sk-dashed-wrapped {border: 1px dashed gray;margin: 0 0.4em 0.5em 0.4em;box-sizing: border-box;padding-bottom: 0.4em;background-color: white;}#sk-container-id-1 div.sk-label label {font-family: monospace;font-weight: bold;display: inline-block;line-height: 1.2em;}#sk-container-id-1 div.sk-label-container {text-align: center;}#sk-container-id-1 div.sk-container {/* jupyter's `normalize.less` sets `[hidden] { display: none; }` but bootstrap.min.css set `[hidden] { display: none !important; }` so we also need the `!important` here to be able to override the default hidden behavior on the sphinx rendered scikit-learn.org. See: https://github.com/scikit-learn/scikit-learn/issues/21755 */display: inline-block !important;position: relative;}#sk-container-id-1 div.sk-text-repr-fallback {display: none;}</style><div id=\"sk-container-id-1\" class=\"sk-top-container\"><div class=\"sk-text-repr-fallback\"><pre>Lasso(alpha=5)</pre><b>In a Jupyter environment, please rerun this cell to show the HTML representation or trust the notebook. <br />On GitHub, the HTML representation is unable to render, please try loading this page with nbviewer.org.</b></div><div class=\"sk-container\" hidden><div class=\"sk-item\"><div class=\"sk-estimator sk-toggleable\"><input class=\"sk-toggleable__control sk-hidden--visually\" id=\"sk-estimator-id-1\" type=\"checkbox\" checked><label for=\"sk-estimator-id-1\" class=\"sk-toggleable__label sk-toggleable__label-arrow\">Lasso</label><div class=\"sk-toggleable__content\"><pre>Lasso(alpha=5)</pre></div></div></div></div></div>"
      ],
      "text/plain": [
       "Lasso(alpha=5)"
      ]
     },
     "execution_count": 44,
     "metadata": {},
     "output_type": "execute_result"
    }
   ],
   "source": [
    "lasso_model=Lasso(alpha=5)\n",
    "lasso_model.fit(X_train_CR,y_train)"
   ]
  },
  {
   "cell_type": "code",
   "execution_count": 45,
   "id": "8b63a28c-354c-4511-bff1-a46c2e8344a5",
   "metadata": {},
   "outputs": [
    {
     "data": {
      "text/plain": [
       "array([ 0.        ,  0.        , 60.87877379, -0.        , -0.        ,\n",
       "       18.53230887,  9.76086084,  1.01802339])"
      ]
     },
     "execution_count": 45,
     "metadata": {},
     "output_type": "execute_result"
    }
   ],
   "source": [
    "lasso_model.coef_"
   ]
  },
  {
   "cell_type": "code",
   "execution_count": 46,
   "id": "e0e656bf-a8c0-41e4-ac06-bbac0cce221b",
   "metadata": {},
   "outputs": [
    {
     "name": "stdout",
     "output_type": "stream",
     "text": [
      "the pourcentage RMSE test set: 3.03897063846016\n"
     ]
    }
   ],
   "source": [
    "#calculate the pourcentage of the RMSE(error)-->aal test hay\n",
    "# %error=(MRSE aal test/mean lal y_test)*100\n",
    "print(\"the before pourcentage RMSE test set:\",(mean_squared_error(y_test,lasso_model.predict(X_test_CR),squared=False)/y_test.mean())*100)"
   ]
  },
  {
   "cell_type": "code",
   "execution_count": 62,
   "id": "f789be56-100f-42ba-9311-116cf0fdb67f",
   "metadata": {},
   "outputs": [
    {
     "data": {
      "text/plain": [
       "array(['sodium', 'calcium', 'lipides', 'retinol', 'folates', 'proteines',\n",
       "       'cholesterol', 'magnesium', 'sodium^2', 'sodium calcium',\n",
       "       'sodium lipides', 'sodium retinol', 'sodium folates',\n",
       "       'sodium proteines', 'sodium cholesterol', 'sodium magnesium',\n",
       "       'calcium^2', 'calcium lipides', 'calcium retinol',\n",
       "       'calcium folates', 'calcium proteines', 'calcium cholesterol',\n",
       "       'calcium magnesium', 'lipides^2', 'lipides retinol',\n",
       "       'lipides folates', 'lipides proteines', 'lipides cholesterol',\n",
       "       'lipides magnesium', 'retinol^2', 'retinol folates',\n",
       "       'retinol proteines', 'retinol cholesterol', 'retinol magnesium',\n",
       "       'folates^2', 'folates proteines', 'folates cholesterol',\n",
       "       'folates magnesium', 'proteines^2', 'proteines cholesterol',\n",
       "       'proteines magnesium', 'cholesterol^2', 'cholesterol magnesium',\n",
       "       'magnesium^2'], dtype=object)"
      ]
     },
     "execution_count": 62,
     "metadata": {},
     "output_type": "execute_result"
    }
   ],
   "source": [
    "polynomial=PolynomialFeatures(degree=2,include_bias=False,interaction_only=False)\n",
    "#bizido l columns kter \n",
    "X_train_CR_poly=polynomial.fit_transform(X_train_CR)#returns a numpy array in X_train_CR_poly\n",
    "polynomial.get_feature_names_out()\n",
    "#X_train_CR_poly"
   ]
  },
  {
   "cell_type": "code",
   "execution_count": 49,
   "id": "4f0f0d3d-731c-4c73-bd3e-5fe808af8890",
   "metadata": {},
   "outputs": [
    {
     "data": {
      "text/html": [
       "<div>\n",
       "<style scoped>\n",
       "    .dataframe tbody tr th:only-of-type {\n",
       "        vertical-align: middle;\n",
       "    }\n",
       "\n",
       "    .dataframe tbody tr th {\n",
       "        vertical-align: top;\n",
       "    }\n",
       "\n",
       "    .dataframe thead th {\n",
       "        text-align: right;\n",
       "    }\n",
       "</style>\n",
       "<table border=\"1\" class=\"dataframe\">\n",
       "  <thead>\n",
       "    <tr style=\"text-align: right;\">\n",
       "      <th></th>\n",
       "      <th>sodium</th>\n",
       "      <th>calcium</th>\n",
       "      <th>lipides</th>\n",
       "      <th>retinol</th>\n",
       "      <th>folates</th>\n",
       "      <th>proteines</th>\n",
       "      <th>cholesterol</th>\n",
       "      <th>magnesium</th>\n",
       "      <th>sodium^2</th>\n",
       "      <th>sodium calcium</th>\n",
       "      <th>...</th>\n",
       "      <th>folates^2</th>\n",
       "      <th>folates proteines</th>\n",
       "      <th>folates cholesterol</th>\n",
       "      <th>folates magnesium</th>\n",
       "      <th>proteines^2</th>\n",
       "      <th>proteines cholesterol</th>\n",
       "      <th>proteines magnesium</th>\n",
       "      <th>cholesterol^2</th>\n",
       "      <th>cholesterol magnesium</th>\n",
       "      <th>magnesium^2</th>\n",
       "    </tr>\n",
       "  </thead>\n",
       "  <tbody>\n",
       "    <tr>\n",
       "      <th>0</th>\n",
       "      <td>-0.633340</td>\n",
       "      <td>-1.646861</td>\n",
       "      <td>-0.574613</td>\n",
       "      <td>2.915299</td>\n",
       "      <td>1.366103</td>\n",
       "      <td>-1.210300</td>\n",
       "      <td>-0.734586</td>\n",
       "      <td>-0.993131</td>\n",
       "      <td>0.401120</td>\n",
       "      <td>1.043023</td>\n",
       "      <td>...</td>\n",
       "      <td>1.866238</td>\n",
       "      <td>-1.653395</td>\n",
       "      <td>-1.003521</td>\n",
       "      <td>-1.356719</td>\n",
       "      <td>1.464826</td>\n",
       "      <td>0.889069</td>\n",
       "      <td>1.201986</td>\n",
       "      <td>0.539617</td>\n",
       "      <td>0.729540</td>\n",
       "      <td>0.986309</td>\n",
       "    </tr>\n",
       "    <tr>\n",
       "      <th>1</th>\n",
       "      <td>-1.755716</td>\n",
       "      <td>-0.626595</td>\n",
       "      <td>-2.404590</td>\n",
       "      <td>-0.814176</td>\n",
       "      <td>0.441072</td>\n",
       "      <td>-1.615179</td>\n",
       "      <td>-2.192822</td>\n",
       "      <td>-1.463809</td>\n",
       "      <td>3.082538</td>\n",
       "      <td>1.100124</td>\n",
       "      <td>...</td>\n",
       "      <td>0.194544</td>\n",
       "      <td>-0.712410</td>\n",
       "      <td>-0.967192</td>\n",
       "      <td>-0.645645</td>\n",
       "      <td>2.608804</td>\n",
       "      <td>3.541800</td>\n",
       "      <td>2.364314</td>\n",
       "      <td>4.808467</td>\n",
       "      <td>3.209872</td>\n",
       "      <td>2.142737</td>\n",
       "    </tr>\n",
       "    <tr>\n",
       "      <th>2</th>\n",
       "      <td>-0.746521</td>\n",
       "      <td>1.121042</td>\n",
       "      <td>0.181778</td>\n",
       "      <td>-0.231561</td>\n",
       "      <td>-0.778288</td>\n",
       "      <td>0.756257</td>\n",
       "      <td>0.359090</td>\n",
       "      <td>1.642667</td>\n",
       "      <td>0.557294</td>\n",
       "      <td>-0.836882</td>\n",
       "      <td>...</td>\n",
       "      <td>0.605732</td>\n",
       "      <td>-0.588585</td>\n",
       "      <td>-0.279476</td>\n",
       "      <td>-1.278468</td>\n",
       "      <td>0.571924</td>\n",
       "      <td>0.271565</td>\n",
       "      <td>1.242278</td>\n",
       "      <td>0.128946</td>\n",
       "      <td>0.589866</td>\n",
       "      <td>2.698354</td>\n",
       "    </tr>\n",
       "    <tr>\n",
       "      <th>3</th>\n",
       "      <td>0.790850</td>\n",
       "      <td>0.628261</td>\n",
       "      <td>0.718571</td>\n",
       "      <td>-0.936636</td>\n",
       "      <td>-0.938066</td>\n",
       "      <td>0.134478</td>\n",
       "      <td>0.723649</td>\n",
       "      <td>1.266124</td>\n",
       "      <td>0.625444</td>\n",
       "      <td>0.496861</td>\n",
       "      <td>...</td>\n",
       "      <td>0.879968</td>\n",
       "      <td>-0.126149</td>\n",
       "      <td>-0.678831</td>\n",
       "      <td>-1.187708</td>\n",
       "      <td>0.018084</td>\n",
       "      <td>0.097315</td>\n",
       "      <td>0.170266</td>\n",
       "      <td>0.523668</td>\n",
       "      <td>0.916230</td>\n",
       "      <td>1.603071</td>\n",
       "    </tr>\n",
       "    <tr>\n",
       "      <th>4</th>\n",
       "      <td>0.102334</td>\n",
       "      <td>0.254858</td>\n",
       "      <td>0.230577</td>\n",
       "      <td>-0.305780</td>\n",
       "      <td>-0.702603</td>\n",
       "      <td>0.452597</td>\n",
       "      <td>-0.005468</td>\n",
       "      <td>0.042361</td>\n",
       "      <td>0.010472</td>\n",
       "      <td>0.026081</td>\n",
       "      <td>...</td>\n",
       "      <td>0.493652</td>\n",
       "      <td>-0.317996</td>\n",
       "      <td>0.003842</td>\n",
       "      <td>-0.029763</td>\n",
       "      <td>0.204844</td>\n",
       "      <td>-0.002475</td>\n",
       "      <td>0.019172</td>\n",
       "      <td>0.000030</td>\n",
       "      <td>-0.000232</td>\n",
       "      <td>0.001794</td>\n",
       "    </tr>\n",
       "  </tbody>\n",
       "</table>\n",
       "<p>5 rows × 44 columns</p>\n",
       "</div>"
      ],
      "text/plain": [
       "     sodium   calcium   lipides   retinol   folates  proteines  cholesterol  \\\n",
       "0 -0.633340 -1.646861 -0.574613  2.915299  1.366103  -1.210300    -0.734586   \n",
       "1 -1.755716 -0.626595 -2.404590 -0.814176  0.441072  -1.615179    -2.192822   \n",
       "2 -0.746521  1.121042  0.181778 -0.231561 -0.778288   0.756257     0.359090   \n",
       "3  0.790850  0.628261  0.718571 -0.936636 -0.938066   0.134478     0.723649   \n",
       "4  0.102334  0.254858  0.230577 -0.305780 -0.702603   0.452597    -0.005468   \n",
       "\n",
       "   magnesium  sodium^2  sodium calcium  ...  folates^2  folates proteines  \\\n",
       "0  -0.993131  0.401120        1.043023  ...   1.866238          -1.653395   \n",
       "1  -1.463809  3.082538        1.100124  ...   0.194544          -0.712410   \n",
       "2   1.642667  0.557294       -0.836882  ...   0.605732          -0.588585   \n",
       "3   1.266124  0.625444        0.496861  ...   0.879968          -0.126149   \n",
       "4   0.042361  0.010472        0.026081  ...   0.493652          -0.317996   \n",
       "\n",
       "   folates cholesterol  folates magnesium  proteines^2  proteines cholesterol  \\\n",
       "0            -1.003521          -1.356719     1.464826               0.889069   \n",
       "1            -0.967192          -0.645645     2.608804               3.541800   \n",
       "2            -0.279476          -1.278468     0.571924               0.271565   \n",
       "3            -0.678831          -1.187708     0.018084               0.097315   \n",
       "4             0.003842          -0.029763     0.204844              -0.002475   \n",
       "\n",
       "   proteines magnesium  cholesterol^2  cholesterol magnesium  magnesium^2  \n",
       "0             1.201986       0.539617               0.729540     0.986309  \n",
       "1             2.364314       4.808467               3.209872     2.142737  \n",
       "2             1.242278       0.128946               0.589866     2.698354  \n",
       "3             0.170266       0.523668               0.916230     1.603071  \n",
       "4             0.019172       0.000030              -0.000232     0.001794  \n",
       "\n",
       "[5 rows x 44 columns]"
      ]
     },
     "execution_count": 49,
     "metadata": {},
     "output_type": "execute_result"
    }
   ],
   "source": [
    "pd.DataFrame(X_train_CR_poly,columns=polynomial.get_feature_names_out()).head()"
   ]
  },
  {
   "cell_type": "code",
   "execution_count": 50,
   "id": "0b078d65-bd70-44bc-aaec-fbde751e69f0",
   "metadata": {},
   "outputs": [
    {
     "data": {
      "text/html": [
       "<style>#sk-container-id-2 {color: black;background-color: white;}#sk-container-id-2 pre{padding: 0;}#sk-container-id-2 div.sk-toggleable {background-color: white;}#sk-container-id-2 label.sk-toggleable__label {cursor: pointer;display: block;width: 100%;margin-bottom: 0;padding: 0.3em;box-sizing: border-box;text-align: center;}#sk-container-id-2 label.sk-toggleable__label-arrow:before {content: \"▸\";float: left;margin-right: 0.25em;color: #696969;}#sk-container-id-2 label.sk-toggleable__label-arrow:hover:before {color: black;}#sk-container-id-2 div.sk-estimator:hover label.sk-toggleable__label-arrow:before {color: black;}#sk-container-id-2 div.sk-toggleable__content {max-height: 0;max-width: 0;overflow: hidden;text-align: left;background-color: #f0f8ff;}#sk-container-id-2 div.sk-toggleable__content pre {margin: 0.2em;color: black;border-radius: 0.25em;background-color: #f0f8ff;}#sk-container-id-2 input.sk-toggleable__control:checked~div.sk-toggleable__content {max-height: 200px;max-width: 100%;overflow: auto;}#sk-container-id-2 input.sk-toggleable__control:checked~label.sk-toggleable__label-arrow:before {content: \"▾\";}#sk-container-id-2 div.sk-estimator input.sk-toggleable__control:checked~label.sk-toggleable__label {background-color: #d4ebff;}#sk-container-id-2 div.sk-label input.sk-toggleable__control:checked~label.sk-toggleable__label {background-color: #d4ebff;}#sk-container-id-2 input.sk-hidden--visually {border: 0;clip: rect(1px 1px 1px 1px);clip: rect(1px, 1px, 1px, 1px);height: 1px;margin: -1px;overflow: hidden;padding: 0;position: absolute;width: 1px;}#sk-container-id-2 div.sk-estimator {font-family: monospace;background-color: #f0f8ff;border: 1px dotted black;border-radius: 0.25em;box-sizing: border-box;margin-bottom: 0.5em;}#sk-container-id-2 div.sk-estimator:hover {background-color: #d4ebff;}#sk-container-id-2 div.sk-parallel-item::after {content: \"\";width: 100%;border-bottom: 1px solid gray;flex-grow: 1;}#sk-container-id-2 div.sk-label:hover label.sk-toggleable__label {background-color: #d4ebff;}#sk-container-id-2 div.sk-serial::before {content: \"\";position: absolute;border-left: 1px solid gray;box-sizing: border-box;top: 0;bottom: 0;left: 50%;z-index: 0;}#sk-container-id-2 div.sk-serial {display: flex;flex-direction: column;align-items: center;background-color: white;padding-right: 0.2em;padding-left: 0.2em;position: relative;}#sk-container-id-2 div.sk-item {position: relative;z-index: 1;}#sk-container-id-2 div.sk-parallel {display: flex;align-items: stretch;justify-content: center;background-color: white;position: relative;}#sk-container-id-2 div.sk-item::before, #sk-container-id-2 div.sk-parallel-item::before {content: \"\";position: absolute;border-left: 1px solid gray;box-sizing: border-box;top: 0;bottom: 0;left: 50%;z-index: -1;}#sk-container-id-2 div.sk-parallel-item {display: flex;flex-direction: column;z-index: 1;position: relative;background-color: white;}#sk-container-id-2 div.sk-parallel-item:first-child::after {align-self: flex-end;width: 50%;}#sk-container-id-2 div.sk-parallel-item:last-child::after {align-self: flex-start;width: 50%;}#sk-container-id-2 div.sk-parallel-item:only-child::after {width: 0;}#sk-container-id-2 div.sk-dashed-wrapped {border: 1px dashed gray;margin: 0 0.4em 0.5em 0.4em;box-sizing: border-box;padding-bottom: 0.4em;background-color: white;}#sk-container-id-2 div.sk-label label {font-family: monospace;font-weight: bold;display: inline-block;line-height: 1.2em;}#sk-container-id-2 div.sk-label-container {text-align: center;}#sk-container-id-2 div.sk-container {/* jupyter's `normalize.less` sets `[hidden] { display: none; }` but bootstrap.min.css set `[hidden] { display: none !important; }` so we also need the `!important` here to be able to override the default hidden behavior on the sphinx rendered scikit-learn.org. See: https://github.com/scikit-learn/scikit-learn/issues/21755 */display: inline-block !important;position: relative;}#sk-container-id-2 div.sk-text-repr-fallback {display: none;}</style><div id=\"sk-container-id-2\" class=\"sk-top-container\"><div class=\"sk-text-repr-fallback\"><pre>LinearRegression()</pre><b>In a Jupyter environment, please rerun this cell to show the HTML representation or trust the notebook. <br />On GitHub, the HTML representation is unable to render, please try loading this page with nbviewer.org.</b></div><div class=\"sk-container\" hidden><div class=\"sk-item\"><div class=\"sk-estimator sk-toggleable\"><input class=\"sk-toggleable__control sk-hidden--visually\" id=\"sk-estimator-id-2\" type=\"checkbox\" checked><label for=\"sk-estimator-id-2\" class=\"sk-toggleable__label sk-toggleable__label-arrow\">LinearRegression</label><div class=\"sk-toggleable__content\"><pre>LinearRegression()</pre></div></div></div></div></div>"
      ],
      "text/plain": [
       "LinearRegression()"
      ]
     },
     "execution_count": 50,
     "metadata": {},
     "output_type": "execute_result"
    }
   ],
   "source": [
    "linear_pol_model=LinearRegression()\n",
    "linear_pol_model.fit(X_train_CR_poly,y_train)"
   ]
  },
  {
   "cell_type": "code",
   "execution_count": 51,
   "id": "1f5c9584-6568-4b03-a308-96a05dbe3b14",
   "metadata": {},
   "outputs": [
    {
     "data": {
      "text/plain": [
       "array([  7.82350851, -11.46657597,  26.93750829,  -9.58478846,\n",
       "        -6.31115646,  20.6850221 ,  23.6165589 ,  14.33049555,\n",
       "        -7.98653688,   7.9955212 ,  -0.47673546,   1.29627559,\n",
       "         0.39182288,  -1.51420232,  15.6656373 , -18.6719031 ,\n",
       "        -0.74577899,   6.39157126,  -3.28134756,  -3.74635806,\n",
       "        -4.37320126,   6.41346967,   4.81860203,  -3.80029784,\n",
       "        -4.19031648,  -5.32675328,  -6.18877123,   8.32915986,\n",
       "       -13.08600448,  -3.45986727,   8.22431538,   8.05699525,\n",
       "        -7.38837766,   4.48594281,   4.30717251,  -4.58200182,\n",
       "        -0.45486706,  10.75563509,   5.72412092,  -7.69444215,\n",
       "         5.36529093,  13.87930272, -14.7008514 ,  -3.79329476])"
      ]
     },
     "execution_count": 51,
     "metadata": {},
     "output_type": "execute_result"
    }
   ],
   "source": [
    "linear_pol_model.coef_\n",
    "#ma bisafro l coef hon aashen regression linear"
   ]
  },
  {
   "cell_type": "code",
   "execution_count": 52,
   "id": "069df28b-e2fa-4e4d-ab29-e7550d2d7acd",
   "metadata": {},
   "outputs": [],
   "source": [
    "#3melna metel X_train_CR w hawalna l test dataset metla(square lal features,combinations,...)\n",
    "X_test_CR_poly=polynomial.transform(X_test_CR)\n",
    "#predictions lal new values\n",
    "y_pred=linear_pol_model.predict(X_test_CR_poly)"
   ]
  },
  {
   "cell_type": "code",
   "execution_count": 55,
   "id": "5081d14b-0fdb-4c33-b4ec-0bee84463377",
   "metadata": {},
   "outputs": [
    {
     "name": "stdout",
     "output_type": "stream",
     "text": [
      "the pourcentage RMSE test set: 5.086597948277636\n"
     ]
    }
   ],
   "source": [
    "print(\"the pourcentage RMSE test set:\",(mean_squared_error(y_test,y_pred,squared=False)/y_test.mean())*100)"
   ]
  },
  {
   "cell_type": "code",
   "execution_count": 56,
   "id": "243091e3-084c-40f4-a21b-61fca14726d6",
   "metadata": {},
   "outputs": [
    {
     "data": {
      "text/html": [
       "<style>#sk-container-id-3 {color: black;background-color: white;}#sk-container-id-3 pre{padding: 0;}#sk-container-id-3 div.sk-toggleable {background-color: white;}#sk-container-id-3 label.sk-toggleable__label {cursor: pointer;display: block;width: 100%;margin-bottom: 0;padding: 0.3em;box-sizing: border-box;text-align: center;}#sk-container-id-3 label.sk-toggleable__label-arrow:before {content: \"▸\";float: left;margin-right: 0.25em;color: #696969;}#sk-container-id-3 label.sk-toggleable__label-arrow:hover:before {color: black;}#sk-container-id-3 div.sk-estimator:hover label.sk-toggleable__label-arrow:before {color: black;}#sk-container-id-3 div.sk-toggleable__content {max-height: 0;max-width: 0;overflow: hidden;text-align: left;background-color: #f0f8ff;}#sk-container-id-3 div.sk-toggleable__content pre {margin: 0.2em;color: black;border-radius: 0.25em;background-color: #f0f8ff;}#sk-container-id-3 input.sk-toggleable__control:checked~div.sk-toggleable__content {max-height: 200px;max-width: 100%;overflow: auto;}#sk-container-id-3 input.sk-toggleable__control:checked~label.sk-toggleable__label-arrow:before {content: \"▾\";}#sk-container-id-3 div.sk-estimator input.sk-toggleable__control:checked~label.sk-toggleable__label {background-color: #d4ebff;}#sk-container-id-3 div.sk-label input.sk-toggleable__control:checked~label.sk-toggleable__label {background-color: #d4ebff;}#sk-container-id-3 input.sk-hidden--visually {border: 0;clip: rect(1px 1px 1px 1px);clip: rect(1px, 1px, 1px, 1px);height: 1px;margin: -1px;overflow: hidden;padding: 0;position: absolute;width: 1px;}#sk-container-id-3 div.sk-estimator {font-family: monospace;background-color: #f0f8ff;border: 1px dotted black;border-radius: 0.25em;box-sizing: border-box;margin-bottom: 0.5em;}#sk-container-id-3 div.sk-estimator:hover {background-color: #d4ebff;}#sk-container-id-3 div.sk-parallel-item::after {content: \"\";width: 100%;border-bottom: 1px solid gray;flex-grow: 1;}#sk-container-id-3 div.sk-label:hover label.sk-toggleable__label {background-color: #d4ebff;}#sk-container-id-3 div.sk-serial::before {content: \"\";position: absolute;border-left: 1px solid gray;box-sizing: border-box;top: 0;bottom: 0;left: 50%;z-index: 0;}#sk-container-id-3 div.sk-serial {display: flex;flex-direction: column;align-items: center;background-color: white;padding-right: 0.2em;padding-left: 0.2em;position: relative;}#sk-container-id-3 div.sk-item {position: relative;z-index: 1;}#sk-container-id-3 div.sk-parallel {display: flex;align-items: stretch;justify-content: center;background-color: white;position: relative;}#sk-container-id-3 div.sk-item::before, #sk-container-id-3 div.sk-parallel-item::before {content: \"\";position: absolute;border-left: 1px solid gray;box-sizing: border-box;top: 0;bottom: 0;left: 50%;z-index: -1;}#sk-container-id-3 div.sk-parallel-item {display: flex;flex-direction: column;z-index: 1;position: relative;background-color: white;}#sk-container-id-3 div.sk-parallel-item:first-child::after {align-self: flex-end;width: 50%;}#sk-container-id-3 div.sk-parallel-item:last-child::after {align-self: flex-start;width: 50%;}#sk-container-id-3 div.sk-parallel-item:only-child::after {width: 0;}#sk-container-id-3 div.sk-dashed-wrapped {border: 1px dashed gray;margin: 0 0.4em 0.5em 0.4em;box-sizing: border-box;padding-bottom: 0.4em;background-color: white;}#sk-container-id-3 div.sk-label label {font-family: monospace;font-weight: bold;display: inline-block;line-height: 1.2em;}#sk-container-id-3 div.sk-label-container {text-align: center;}#sk-container-id-3 div.sk-container {/* jupyter's `normalize.less` sets `[hidden] { display: none; }` but bootstrap.min.css set `[hidden] { display: none !important; }` so we also need the `!important` here to be able to override the default hidden behavior on the sphinx rendered scikit-learn.org. See: https://github.com/scikit-learn/scikit-learn/issues/21755 */display: inline-block !important;position: relative;}#sk-container-id-3 div.sk-text-repr-fallback {display: none;}</style><div id=\"sk-container-id-3\" class=\"sk-top-container\"><div class=\"sk-text-repr-fallback\"><pre>Lasso(alpha=5)</pre><b>In a Jupyter environment, please rerun this cell to show the HTML representation or trust the notebook. <br />On GitHub, the HTML representation is unable to render, please try loading this page with nbviewer.org.</b></div><div class=\"sk-container\" hidden><div class=\"sk-item\"><div class=\"sk-estimator sk-toggleable\"><input class=\"sk-toggleable__control sk-hidden--visually\" id=\"sk-estimator-id-3\" type=\"checkbox\" checked><label for=\"sk-estimator-id-3\" class=\"sk-toggleable__label sk-toggleable__label-arrow\">Lasso</label><div class=\"sk-toggleable__content\"><pre>Lasso(alpha=5)</pre></div></div></div></div></div>"
      ],
      "text/plain": [
       "Lasso(alpha=5)"
      ]
     },
     "execution_count": 56,
     "metadata": {},
     "output_type": "execute_result"
    }
   ],
   "source": [
    "lasso_pol_model=Lasso(alpha=5,fit_intercept=True)\n",
    "lasso_pol_model.fit(X_train_CR_poly,y_train)"
   ]
  },
  {
   "cell_type": "code",
   "execution_count": 57,
   "id": "c22ec6f1-d260-4e5b-976d-2c5ab7ea5695",
   "metadata": {},
   "outputs": [
    {
     "data": {
      "text/plain": [
       "array([ 0.        ,  0.        , 55.59665384, -0.        , -0.        ,\n",
       "       15.49110473, 12.5312011 ,  2.19587407, -0.        , -0.        ,\n",
       "       -0.        , -0.        , -0.        , -0.        , -0.        ,\n",
       "       -0.        ,  0.        , -0.        ,  0.        , -0.        ,\n",
       "        0.        , -0.        , -0.        , -2.63920303, -0.        ,\n",
       "        0.        , -0.        , -0.        , -0.        , -1.80300094,\n",
       "       -0.        ,  0.        , -0.        ,  0.        , -0.        ,\n",
       "       -0.        ,  0.        ,  0.        , -0.        , -0.        ,\n",
       "       -0.        , -0.        , -0.        , -0.        ])"
      ]
     },
     "execution_count": 57,
     "metadata": {},
     "output_type": "execute_result"
    }
   ],
   "source": [
    "lasso_pol_model.coef_\n",
    "#returns a numpy array "
   ]
  },
  {
   "cell_type": "code",
   "execution_count": 59,
   "id": "ae171bf4-c514-49d9-9882-ec47877e169b",
   "metadata": {},
   "outputs": [
    {
     "name": "stdout",
     "output_type": "stream",
     "text": [
      "the after pourcentage RMSE test set: 3.39302840752831\n"
     ]
    }
   ],
   "source": [
    "y_pred = lasso_pol_model.predict(X_test_CR_poly)\n",
    "print(\"the after pourcentage RMSE test set:\",(mean_squared_error(y_test,y_pred,squared=False)/y_test.mean())*100)"
   ]
  },
  {
   "cell_type": "code",
   "execution_count": 60,
   "id": "71c43f15-f763-4bad-8186-585d186ae85c",
   "metadata": {},
   "outputs": [
    {
     "data": {
      "text/html": [
       "<div>\n",
       "<style scoped>\n",
       "    .dataframe tbody tr th:only-of-type {\n",
       "        vertical-align: middle;\n",
       "    }\n",
       "\n",
       "    .dataframe tbody tr th {\n",
       "        vertical-align: top;\n",
       "    }\n",
       "\n",
       "    .dataframe thead th {\n",
       "        text-align: right;\n",
       "    }\n",
       "</style>\n",
       "<table border=\"1\" class=\"dataframe\">\n",
       "  <thead>\n",
       "    <tr style=\"text-align: right;\">\n",
       "      <th></th>\n",
       "      <th>coef</th>\n",
       "    </tr>\n",
       "  </thead>\n",
       "  <tbody>\n",
       "    <tr>\n",
       "      <th>sodium</th>\n",
       "      <td>0.000000</td>\n",
       "    </tr>\n",
       "    <tr>\n",
       "      <th>calcium</th>\n",
       "      <td>0.000000</td>\n",
       "    </tr>\n",
       "    <tr>\n",
       "      <th>lipides</th>\n",
       "      <td>55.596654</td>\n",
       "    </tr>\n",
       "    <tr>\n",
       "      <th>retinol</th>\n",
       "      <td>-0.000000</td>\n",
       "    </tr>\n",
       "    <tr>\n",
       "      <th>folates</th>\n",
       "      <td>-0.000000</td>\n",
       "    </tr>\n",
       "    <tr>\n",
       "      <th>proteines</th>\n",
       "      <td>15.491105</td>\n",
       "    </tr>\n",
       "    <tr>\n",
       "      <th>cholesterol</th>\n",
       "      <td>12.531201</td>\n",
       "    </tr>\n",
       "    <tr>\n",
       "      <th>magnesium</th>\n",
       "      <td>2.195874</td>\n",
       "    </tr>\n",
       "    <tr>\n",
       "      <th>sodium^2</th>\n",
       "      <td>-0.000000</td>\n",
       "    </tr>\n",
       "    <tr>\n",
       "      <th>sodium calcium</th>\n",
       "      <td>-0.000000</td>\n",
       "    </tr>\n",
       "    <tr>\n",
       "      <th>sodium lipides</th>\n",
       "      <td>-0.000000</td>\n",
       "    </tr>\n",
       "    <tr>\n",
       "      <th>sodium retinol</th>\n",
       "      <td>-0.000000</td>\n",
       "    </tr>\n",
       "    <tr>\n",
       "      <th>sodium folates</th>\n",
       "      <td>-0.000000</td>\n",
       "    </tr>\n",
       "    <tr>\n",
       "      <th>sodium proteines</th>\n",
       "      <td>-0.000000</td>\n",
       "    </tr>\n",
       "    <tr>\n",
       "      <th>sodium cholesterol</th>\n",
       "      <td>-0.000000</td>\n",
       "    </tr>\n",
       "    <tr>\n",
       "      <th>sodium magnesium</th>\n",
       "      <td>-0.000000</td>\n",
       "    </tr>\n",
       "    <tr>\n",
       "      <th>calcium^2</th>\n",
       "      <td>0.000000</td>\n",
       "    </tr>\n",
       "    <tr>\n",
       "      <th>calcium lipides</th>\n",
       "      <td>-0.000000</td>\n",
       "    </tr>\n",
       "    <tr>\n",
       "      <th>calcium retinol</th>\n",
       "      <td>0.000000</td>\n",
       "    </tr>\n",
       "    <tr>\n",
       "      <th>calcium folates</th>\n",
       "      <td>-0.000000</td>\n",
       "    </tr>\n",
       "    <tr>\n",
       "      <th>calcium proteines</th>\n",
       "      <td>0.000000</td>\n",
       "    </tr>\n",
       "    <tr>\n",
       "      <th>calcium cholesterol</th>\n",
       "      <td>-0.000000</td>\n",
       "    </tr>\n",
       "    <tr>\n",
       "      <th>calcium magnesium</th>\n",
       "      <td>-0.000000</td>\n",
       "    </tr>\n",
       "    <tr>\n",
       "      <th>lipides^2</th>\n",
       "      <td>-2.639203</td>\n",
       "    </tr>\n",
       "    <tr>\n",
       "      <th>lipides retinol</th>\n",
       "      <td>-0.000000</td>\n",
       "    </tr>\n",
       "    <tr>\n",
       "      <th>lipides folates</th>\n",
       "      <td>0.000000</td>\n",
       "    </tr>\n",
       "    <tr>\n",
       "      <th>lipides proteines</th>\n",
       "      <td>-0.000000</td>\n",
       "    </tr>\n",
       "    <tr>\n",
       "      <th>lipides cholesterol</th>\n",
       "      <td>-0.000000</td>\n",
       "    </tr>\n",
       "    <tr>\n",
       "      <th>lipides magnesium</th>\n",
       "      <td>-0.000000</td>\n",
       "    </tr>\n",
       "    <tr>\n",
       "      <th>retinol^2</th>\n",
       "      <td>-1.803001</td>\n",
       "    </tr>\n",
       "    <tr>\n",
       "      <th>retinol folates</th>\n",
       "      <td>-0.000000</td>\n",
       "    </tr>\n",
       "    <tr>\n",
       "      <th>retinol proteines</th>\n",
       "      <td>0.000000</td>\n",
       "    </tr>\n",
       "    <tr>\n",
       "      <th>retinol cholesterol</th>\n",
       "      <td>-0.000000</td>\n",
       "    </tr>\n",
       "    <tr>\n",
       "      <th>retinol magnesium</th>\n",
       "      <td>0.000000</td>\n",
       "    </tr>\n",
       "    <tr>\n",
       "      <th>folates^2</th>\n",
       "      <td>-0.000000</td>\n",
       "    </tr>\n",
       "    <tr>\n",
       "      <th>folates proteines</th>\n",
       "      <td>-0.000000</td>\n",
       "    </tr>\n",
       "    <tr>\n",
       "      <th>folates cholesterol</th>\n",
       "      <td>0.000000</td>\n",
       "    </tr>\n",
       "    <tr>\n",
       "      <th>folates magnesium</th>\n",
       "      <td>0.000000</td>\n",
       "    </tr>\n",
       "    <tr>\n",
       "      <th>proteines^2</th>\n",
       "      <td>-0.000000</td>\n",
       "    </tr>\n",
       "    <tr>\n",
       "      <th>proteines cholesterol</th>\n",
       "      <td>-0.000000</td>\n",
       "    </tr>\n",
       "    <tr>\n",
       "      <th>proteines magnesium</th>\n",
       "      <td>-0.000000</td>\n",
       "    </tr>\n",
       "    <tr>\n",
       "      <th>cholesterol^2</th>\n",
       "      <td>-0.000000</td>\n",
       "    </tr>\n",
       "    <tr>\n",
       "      <th>cholesterol magnesium</th>\n",
       "      <td>-0.000000</td>\n",
       "    </tr>\n",
       "    <tr>\n",
       "      <th>magnesium^2</th>\n",
       "      <td>-0.000000</td>\n",
       "    </tr>\n",
       "    <tr>\n",
       "      <th>Intercept</th>\n",
       "      <td>294.042204</td>\n",
       "    </tr>\n",
       "  </tbody>\n",
       "</table>\n",
       "</div>"
      ],
      "text/plain": [
       "                             coef\n",
       "sodium                   0.000000\n",
       "calcium                  0.000000\n",
       "lipides                 55.596654\n",
       "retinol                 -0.000000\n",
       "folates                 -0.000000\n",
       "proteines               15.491105\n",
       "cholesterol             12.531201\n",
       "magnesium                2.195874\n",
       "sodium^2                -0.000000\n",
       "sodium calcium          -0.000000\n",
       "sodium lipides          -0.000000\n",
       "sodium retinol          -0.000000\n",
       "sodium folates          -0.000000\n",
       "sodium proteines        -0.000000\n",
       "sodium cholesterol      -0.000000\n",
       "sodium magnesium        -0.000000\n",
       "calcium^2                0.000000\n",
       "calcium lipides         -0.000000\n",
       "calcium retinol          0.000000\n",
       "calcium folates         -0.000000\n",
       "calcium proteines        0.000000\n",
       "calcium cholesterol     -0.000000\n",
       "calcium magnesium       -0.000000\n",
       "lipides^2               -2.639203\n",
       "lipides retinol         -0.000000\n",
       "lipides folates          0.000000\n",
       "lipides proteines       -0.000000\n",
       "lipides cholesterol     -0.000000\n",
       "lipides magnesium       -0.000000\n",
       "retinol^2               -1.803001\n",
       "retinol folates         -0.000000\n",
       "retinol proteines        0.000000\n",
       "retinol cholesterol     -0.000000\n",
       "retinol magnesium        0.000000\n",
       "folates^2               -0.000000\n",
       "folates proteines       -0.000000\n",
       "folates cholesterol      0.000000\n",
       "folates magnesium        0.000000\n",
       "proteines^2             -0.000000\n",
       "proteines cholesterol   -0.000000\n",
       "proteines magnesium     -0.000000\n",
       "cholesterol^2           -0.000000\n",
       "cholesterol magnesium   -0.000000\n",
       "magnesium^2             -0.000000\n",
       "Intercept              294.042204"
      ]
     },
     "execution_count": 60,
     "metadata": {},
     "output_type": "execute_result"
    }
   ],
   "source": [
    "#we put in the df coef the numpy array lasso_pol_model.coef_ and we set the column name:coef and the names of features as index\n",
    "coef=pd.DataFrame(lasso_pol_model.coef_,columns=[\"coef\"],index=polynomial.get_feature_names_out())\n",
    "coef.loc[\"Intercept\"]=lasso_pol_model.intercept_#intercept at the end of the df\n",
    "coef\n",
    "#return equation of the variable cible en function des variables explicatives"
   ]
  }
 ],
 "metadata": {
  "kernelspec": {
   "display_name": "Python 3 (ipykernel)",
   "language": "python",
   "name": "python3"
  },
  "language_info": {
   "codemirror_mode": {
    "name": "ipython",
    "version": 3
   },
   "file_extension": ".py",
   "mimetype": "text/x-python",
   "name": "python",
   "nbconvert_exporter": "python",
   "pygments_lexer": "ipython3",
   "version": "3.11.8"
  }
 },
 "nbformat": 4,
 "nbformat_minor": 5
}
